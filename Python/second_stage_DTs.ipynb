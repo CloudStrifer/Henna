{
 "cells": [
  {
   "cell_type": "code",
   "execution_count": 1,
   "metadata": {},
   "outputs": [],
   "source": [
    "import numpy as np\n",
    "import pandas as pd\n",
    "from sklearn.ensemble import RandomForestClassifier\n",
    "from sklearn.metrics import classification_report\n",
    "from sklearn.tree import DecisionTreeClassifier\n",
    "import pickle\n",
    "pd.options.mode.chained_assignment = None\n",
    "from IPython.display import display, HTML"
   ]
  },
  {
   "cell_type": "code",
   "execution_count": 2,
   "metadata": {},
   "outputs": [],
   "source": [
    "# List of 21 IoT devices and their MAC addresses for labeling the data\n",
    "IoT_Device_List = pd.read_csv(\"../Data/iot_device_list.csv\")"
   ]
  },
  {
   "cell_type": "code",
   "execution_count": 3,
   "metadata": {},
   "outputs": [],
   "source": [
    "# List of 21 devices for device identification task\n",
    "classes = ['Belkin Wemo switch', 'iHome', 'TP-Link Smart plug','Light Bulbs LiFX Smart Bulb', \"Withings Aura smart sleep sensor\", \\\n",
    "    \"Belkin wemo motion sensor\", \"NEST Protect smoke alarm\", \"Withings Smart Baby Monitor\", \"Insteon Camera\", \"TP-Link Day Night Cloud camera\", \\\n",
    "        \"Samsung SmartCam\", \"Dropcam\", \"Netatmo Welcome\", \"Amazon Echo\", \"Triby Speaker\", 'Netatmo weather station','Withings Smart scale','Smart Things',\\\n",
    "            'PIX-STAR Photo-frame', 'Laptop', 'MacBook']\n",
    "\n",
    "classes_df = pd.DataFrame(classes, columns=['class'])\n",
    "IoT_Device_List = IoT_Device_List[IoT_Device_List[\"List of Devices\"].isin(classes)]\n",
    "IoT_Device_List = IoT_Device_List.reset_index(drop=True)"
   ]
  },
  {
   "cell_type": "code",
   "execution_count": 4,
   "metadata": {},
   "outputs": [],
   "source": [
    "# Grouping of 21 devices into 5 groups for the first stage of the hierarchy\n",
    "Plugs = ['Belkin Wemo switch', 'iHome', 'TP-Link Smart plug','Light Bulbs LiFX Smart Bulb']\n",
    "Sensors = [\"Withings Aura smart sleep sensor\", \"Belkin wemo motion sensor\", \"NEST Protect smoke alarm\"]\n",
    "Video = [\"Withings Smart Baby Monitor\", \"Insteon Camera\", \"TP-Link Day Night Cloud camera\", \"Samsung SmartCam\", \"Dropcam\", \"Netatmo Welcome\"]\n",
    "Appliances = [\"Amazon Echo\", \"Triby Speaker\", 'Netatmo weather station','Withings Smart scale','Smart Things','PIX-STAR Photo-frame']\n",
    "Computers = ['Laptop', 'MacBook']\n",
    "\n",
    "Group_Names = [\"Plugs\", \"Sensors\", \"Video\", \"Appliances\", \"Computers\" ]\n",
    "Groups = [Plugs, Sensors, Video, Appliances, Computers]"
   ]
  },
  {
   "cell_type": "markdown",
   "metadata": {},
   "source": [
    "### Functions for the model analysis"
   ]
  },
  {
   "cell_type": "code",
   "execution_count": 5,
   "metadata": {},
   "outputs": [],
   "source": [
    "# Get feature importance for a decision tree\n",
    "def get_feature_importance_DT(depth, X_train, y_train):\n",
    "    dt_opt = DecisionTreeClassifier(max_depth = depth, random_state=42)\n",
    "    dt_opt.fit(X_train, y_train)\n",
    "    Feature_importance = pd.DataFrame(dt_opt.feature_importances_)\n",
    "    Feature_importance.index = X_train.columns\n",
    "    Feature_importance = Feature_importance.sort_values(by=list(Feature_importance.columns),axis=0,ascending=False)\n",
    "    return Feature_importance"
   ]
  },
  {
   "cell_type": "code",
   "execution_count": 6,
   "metadata": {},
   "outputs": [],
   "source": [
    "# Get fewest features required to provide an f1 score beyond a given threshold\n",
    "def get_fewest_features_DT(depth, importance, X_train, y_train, X_test, y_test, f1_threshold, mode):    \n",
    "    sorted_feature_names = importance.index\n",
    "    for f in range(1,len(sorted_feature_names)+1):\n",
    "        dt_try = DecisionTreeClassifier(max_depth=depth, random_state=42)\n",
    "        dt_try.fit(X_train[sorted_feature_names[0:f]], y_train)\n",
    "        y_pred = dt_try.predict(X_test[sorted_feature_names[0:f]])\n",
    "        # scores\n",
    "        class_report = classification_report(y_test, y_pred, output_dict = True)\n",
    "        macro_score = class_report['macro avg']['f1-score']\n",
    "        weighted_score = class_report['weighted avg']['f1-score']\n",
    "        tuple_feat = [f, macro_score, weighted_score, sorted_feature_names[0:f]]\n",
    "        print(tuple_feat)\n",
    "        if(macro_score >= f1_threshold):\n",
    "            return tuple_feat\n",
    "        else:\n",
    "            continue"
   ]
  },
  {
   "cell_type": "code",
   "execution_count": 7,
   "metadata": {},
   "outputs": [],
   "source": [
    "# Performs a grid search on the depth of the tree using different combinations of features\n",
    "def analyze_models_features_DT(depths, X_train, y_train, X_test, y_test, max_feats):\n",
    "    for depth in depths:\n",
    "        print(\"Depth:\", depth)\n",
    "        importance = get_feature_importance_DT(depth, X_train, y_train)\n",
    "        print(importance)\n",
    "        get_fewest_features_DT(depth, importance[0:max_feats], X_train, y_train, X_test, y_test, 99, 'macro')"
   ]
  },
  {
   "cell_type": "code",
   "execution_count": 8,
   "metadata": {},
   "outputs": [],
   "source": [
    "# Function to fit the final models which we will translate to P4\n",
    "def fit_final_model_DT(few, depth, X_train, y_train):    \n",
    "    dt_final = DecisionTreeClassifier(max_depth= depth, random_state=42)\n",
    "    dt_final.fit(X_train[few], y_train)\n",
    "    return dt_final"
   ]
  },
  {
   "cell_type": "code",
   "execution_count": 9,
   "metadata": {},
   "outputs": [],
   "source": [
    "# Get classification report of a given model\n",
    "def show_performance(X_test, y_test, model, features, target_names):\n",
    "    # testing with out-of-sample data\n",
    "    X_tested = X_test[features]\n",
    "    y_pred = model.predict(X_tested)\n",
    "    class_report = classification_report(y_test, y_pred, target_names=target_names, output_dict = True)\n",
    "    return class_report"
   ]
  },
  {
   "cell_type": "code",
   "execution_count": 10,
   "metadata": {},
   "outputs": [],
   "source": [
    "# Dump model to file for later conversion to M/A\n",
    "def save_model(RF, filename):\n",
    "    pickle.dump(RF, open(filename, 'wb'))"
   ]
  },
  {
   "cell_type": "code",
   "execution_count": 11,
   "metadata": {},
   "outputs": [],
   "source": [
    "# Assign labels based on MAC addresses\n",
    "def label_flows(IoT_Train, IoT_Device_List):\n",
    "    IoT_Train['Label_New'] = len(IoT_Train)*[0]\n",
    "    for i in range(len(IoT_Device_List)):\n",
    "        IoT_Train['Label_New'] = np.where((IoT_Train['eth.src']==IoT_Device_List[\"MAC ADDRESS\"][i]), \n",
    "                                          IoT_Device_List[\"List of Devices\"][i], IoT_Train['Label_New'])\n",
    "\n",
    "    for i in range(len(IoT_Device_List)):\n",
    "        IoT_Train['Label_New'] = np.where((IoT_Train['eth.dst']==IoT_Device_List[\"MAC ADDRESS\"][i]) & \n",
    "                                       (IoT_Train['eth.src']==\"14:cc:20:51:33:ea\"), \n",
    "                                      IoT_Device_List[\"List of Devices\"][i], IoT_Train['Label_New'])\n",
    "\n",
    "    IoT_Train = IoT_Train[IoT_Train['Label_New']!=\"TPLink Router Bridge LAN (Gateway)\"]\n",
    "    IoT_Train = IoT_Train[IoT_Train['Label_New']!=\"0\"]\n",
    "    IoT_Train = IoT_Train[IoT_Train['Label_New']!=\"Nest Dropcam\"]\n",
    "    IoT_Train = IoT_Train[IoT_Train['Label_New']!=\"MacBook/Iphone\"]\n",
    "\n",
    "    return IoT_Train"
   ]
  },
  {
   "cell_type": "code",
   "execution_count": 12,
   "metadata": {},
   "outputs": [],
   "source": [
    "# Load and clean test data\n",
    "def prepare_test(packet_data, IoT_Device_List):\n",
    "\n",
    "    packet_data.columns = [\"frame.time_relative\",\"ip.src\",\"ip.dst\",\"tcp.srcport\",\"tcp.dstport\",\"ip.len\",\n",
    "                       \"tcp.flags.syn\",\"tcp.flags.ack\",\"tcp.flags.push\",\"tcp.flags.fin\",\n",
    "                       \"tcp.flags.reset\",\"tcp.flags.ece\",\"ip.proto\",\"udp.srcport\",\"udp.dstport\",\n",
    "                       \"eth.src\",\"eth.dst\"]\n",
    "    packet_data = packet_data[(packet_data[\"ip.proto\"] != \"1,17\") & (packet_data[\"ip.proto\"] != \"1,6\")].reset_index(drop=True)\n",
    "    packet_data = packet_data.dropna(subset=['ip.proto'])\n",
    "    packet_data[\"ip.src\"] = packet_data[\"ip.src\"].astype(str)\n",
    "    packet_data[\"ip.dst\"] = packet_data[\"ip.dst\"].astype(str)\n",
    "    packet_data[\"ip.proto\"] = packet_data[\"ip.proto\"].astype('int')\n",
    "    packet_data[\"ip.len\"] = packet_data[\"ip.len\"].astype(\"int\")\n",
    "    packet_data[\"tcp.srcport\"] = packet_data[\"tcp.srcport\"].astype('Int64').fillna(0)\n",
    "    packet_data[\"tcp.dstport\"] = packet_data[\"tcp.dstport\"].astype('Int64').fillna(0)\n",
    "    packet_data[\"udp.srcport\"] = packet_data[\"udp.srcport\"].astype('Int64').fillna(0)\n",
    "    packet_data[\"udp.dstport\"] = packet_data[\"udp.dstport\"].astype('Int64').fillna(0)\n",
    "    packet_data[\"tcp.flags.syn\"] = packet_data[\"tcp.flags.syn\"].astype('Int64').fillna(0)\n",
    "    packet_data[\"tcp.flags.ack\"] = packet_data[\"tcp.flags.ack\"].astype('Int64').fillna(0)\n",
    "    packet_data[\"tcp.flags.push\"] = packet_data[\"tcp.flags.push\"].astype('Int64').fillna(0)\n",
    "    packet_data[\"tcp.flags.fin\"] = packet_data[\"tcp.flags.fin\"].astype('Int64').fillna(0)\n",
    "    packet_data[\"tcp.flags.reset\"] = packet_data[\"tcp.flags.reset\"].astype('Int64').fillna(0)\n",
    "    packet_data[\"tcp.flags.ece\"] = packet_data[\"tcp.flags.ece\"].astype('Int64').fillna(0)\n",
    "    packet_data[\"srcport\"] = np.where(packet_data[\"ip.proto\"] == 6, packet_data[\"tcp.srcport\"], packet_data[\"udp.srcport\"])\n",
    "    packet_data[\"dstport\"] = np.where(packet_data[\"ip.proto\"] == 6, packet_data[\"tcp.dstport\"], packet_data[\"udp.dstport\"])\n",
    "    packet_data[\"srcport\"] = packet_data[\"srcport\"].astype('Int64')\n",
    "    packet_data[\"dstport\"] = packet_data[\"dstport\"].astype('Int64')\n",
    "    packet_data = packet_data.drop([\"tcp.srcport\",\"tcp.dstport\",\"udp.srcport\",\"udp.dstport\"],axis=1)\n",
    "    packet_data[\"label\"] = [0] * len(packet_data)\n",
    "    for i in range(len(IoT_Device_List)):\n",
    "        packet_data[\"label\"] = np.where((packet_data[\"eth.src\"]==IoT_Device_List[\"MAC ADDRESS\"][i]), \n",
    "                                          IoT_Device_List[\"List of Devices\"][i], packet_data[\"label\"])\n",
    "    for i in range(len(IoT_Device_List)):\n",
    "        packet_data[\"label\"] = np.where((packet_data[\"eth.dst\"] ==IoT_Device_List[\"MAC ADDRESS\"][i]) & \n",
    "                                       (packet_data[\"eth.src\"]==\"14:cc:20:51:33:ea\"), \n",
    "                                      IoT_Device_List[\"List of Devices\"][i], packet_data[\"label\"])\n",
    "    packet_data = packet_data[packet_data['label']!=\"TPLink Router Bridge LAN (Gateway)\"]\n",
    "    packet_data = packet_data[packet_data['label']!=\"0\"]\n",
    "    packet_data = packet_data[packet_data['label']!=\"Nest Dropcam\"]\n",
    "    packet_data = packet_data[packet_data['label']!=\"MacBook/Iphone\"]\n",
    "    \n",
    "    return packet_data"
   ]
  },
  {
   "cell_type": "code",
   "execution_count": 13,
   "metadata": {},
   "outputs": [],
   "source": [
    "# Get test data features and labels\n",
    "def get_xtest_ytest(Test):\n",
    "    X_test = Test[['ip.len', 'tcp.flags.syn', 'tcp.flags.ack', 'tcp.flags.push','tcp.flags.fin', \\\n",
    "        'tcp.flags.reset', 'tcp.flags.ece', 'ip.proto','srcport', 'dstport']]\n",
    "    y_test = Test['label'].replace(classes, range(len(classes)))\n",
    "    return X_test, y_test"
   ]
  },
  {
   "cell_type": "code",
   "execution_count": 14,
   "metadata": {},
   "outputs": [],
   "source": [
    "# Get train data features and labels\n",
    "def get_xtrain_ytrain(Test):\n",
    "    X_train = Test[['ip.len', 'tcp.flags.syn', 'tcp.flags.ack', 'tcp.flags.push',\n",
    "                   'tcp.flags.fin', 'tcp.flags.reset', 'tcp.flags.ece', 'ip.proto','srcport', 'dstport']]\n",
    "    y_train = Test['Label_New'].replace(classes, range(len(classes)))\n",
    "    return X_train, y_train"
   ]
  },
  {
   "cell_type": "code",
   "execution_count": 15,
   "metadata": {},
   "outputs": [],
   "source": [
    "# Assign new labels based on groups\n",
    "def assign_new_labels(IoT_Train, Groups, Group_Names):\n",
    "    IoT_Train['Group_Label'] = len(IoT_Train)*[0]\n",
    "    for group, group_name in zip(Groups, Group_Names):\n",
    "        IoT_Train['Group_Label'] = np.where((IoT_Train['Label_New'].isin(group)), group_name, IoT_Train['Group_Label'])\n",
    "    IoT_Train = IoT_Train[IoT_Train['Group_Label']!=\"0\"]\n",
    "    return IoT_Train"
   ]
  },
  {
   "cell_type": "code",
   "execution_count": null,
   "metadata": {},
   "outputs": [],
   "source": [
    "# Analyze models for a group\n",
    "def analyze_group_models(IoT_Train,  IoT_Test, Group, depths):\n",
    "    IoT_Train_group = IoT_Train[IoT_Train['Label_New'].isin(Group)]\n",
    "    IoT_Test_group  = IoT_Test[IoT_Test['label'].isin(Group)]\n",
    "    print(\"Group members:\", IoT_Train_group[\"Label_New\"].unique())\n",
    "    # get train and test for the group\n",
    "    X_train_group, y_train_group = get_xtrain_ytrain(IoT_Train_group)\n",
    "    X_test_group, y_test_group = get_xtest_ytest(IoT_Test_group)\n",
    "    # analyze model\n",
    "    analyze_models_features_DT(depths, X_train_group, y_train_group, X_test_group, y_test_group, 10)\n",
    "    # uncomment line below if you want to run evaluaton for RFs too\n",
    "    #analyze_models_features([7,8,9,10,11], [2,3,4,5], X_train_group, y_train_group, X_test_group, y_test_group, 10)\n",
    "    "
   ]
  },
  {
   "cell_type": "code",
   "execution_count": 16,
   "metadata": {},
   "outputs": [],
   "source": [
    "# final models for each group, outputs the model and the classification report\n",
    "def get_final_model(IoT_Train, IoT_Test, group_name, feats, depth, name):    \n",
    "    \n",
    "    IoT_Train_group = IoT_Train[IoT_Train['Label_New'].isin(group_name)]\n",
    "    IoT_Test_group  = IoT_Test[IoT_Test['label'].isin(group_name)]\n",
    "    \n",
    "    print(\"Group members:\", IoT_Train_group[\"Label_New\"].unique())\n",
    "\n",
    "    # get train and test for the group\n",
    "    X_train_group, y_train_group = get_xtrain_ytrain(IoT_Train_group)\n",
    "    X_test_group, y_test_group = get_xtest_ytest(IoT_Test_group)\n",
    "\n",
    "    # fit model for the group\n",
    "    model_gr = fit_final_model_DT(feats, depth, X_train_group, y_train_group)\n",
    "\n",
    "    # save model as .sav file for later conversion in M/A entries\n",
    "    save_model(model_gr, \"2nd_stage_\"+name+'_model.sav')\n",
    "    \n",
    "    #Prune check\n",
    "    nbitsp4 = model_gr.tree_.node_count - model_gr.tree_.n_leaves\n",
    "    print(\"Number of bits required to encode final code words in P4: \", nbitsp4)\n",
    "\n",
    "    c_report = show_performance(X_test_group, y_test_group, model_gr, feats, \"macro\", group_name)\n",
    "\n",
    "    return c_report, model_gr"
   ]
  },
  {
   "cell_type": "markdown",
   "metadata": {},
   "source": [
    "### Model training and testing"
   ]
  },
  {
   "cell_type": "code",
   "execution_count": 17,
   "metadata": {},
   "outputs": [],
   "source": [
    "# Load and process train data\n",
    "with open(\"../Data/IOT_Train_Pickle.pkl\", 'rb') as fp:\n",
    "    IoT_Train = pickle.load(fp)\n",
    "IoT_Train = label_flows(IoT_Train, IoT_Device_List)   "
   ]
  },
  {
   "cell_type": "code",
   "execution_count": 18,
   "metadata": {},
   "outputs": [
    {
     "name": "stderr",
     "output_type": "stream",
     "text": [
      "C:\\Users\\akema\\AppData\\Roaming\\Python\\Python38\\site-packages\\IPython\\core\\interactiveshell.py:3433: DtypeWarning: Columns (5,12) have mixed types.Specify dtype option on import or set low_memory=False.\n",
      "  exec(code_obj, self.user_global_ns, self.user_ns)\n"
     ]
    }
   ],
   "source": [
    "# Load and process test data\n",
    "IoT_Test_csv = pd.read_csv(\"../Data/Test_Data.txt\", sep=\"|\")\n",
    "IoT_Test_csv = prepare_test(IoT_Test_csv, IoT_Device_List)\n",
    "IoT_Test = IoT_Test_csv.dropna(axis=0)"
   ]
  },
  {
   "cell_type": "markdown",
   "metadata": {},
   "source": [
    "### Feature and model selection per group of devices"
   ]
  },
  {
   "cell_type": "code",
   "execution_count": null,
   "metadata": {},
   "outputs": [],
   "source": [
    "## Feature and model selection for each group of devices\n",
    "analyze_group_models(IoT_Train,  IoT_Test, Plugs,      [4,5,6,7,8,9,10])\n",
    "analyze_group_models(IoT_Train,  IoT_Test, Appliances, [4,5,6,7,8,9,10])\n",
    "analyze_group_models(IoT_Train,  IoT_Test, Sensors,    [4,5,6,7,8,9,10])\n",
    "analyze_group_models(IoT_Train,  IoT_Test, Video,      [4,5,6,7,8,9,10])\n",
    "analyze_group_models(IoT_Train,  IoT_Test, Video,      [4,5,6,7,8,9,10])"
   ]
  },
  {
   "cell_type": "code",
   "execution_count": 19,
   "metadata": {},
   "outputs": [],
   "source": [
    "# selected features for each group's model\n",
    "feats_plugs = ['srcport', 'dstport']\n",
    "feats_appliances = ['srcport', 'dstport', 'ip.len', 'ip.proto', 'tcp.flags.push']\n",
    "feats_sensors = ['srcport', 'dstport']\n",
    "feats_video = ['ip.len', 'srcport', 'tcp.flags.ack', 'dstport']\n",
    "feats_computers_DT = ['ip.len', 'dstport', 'srcport', 'ip.proto']"
   ]
  },
  {
   "cell_type": "markdown",
   "metadata": {},
   "source": [
    "### Fit models of individual groups with selected features and depths - a .sav file is generated for each model"
   ]
  },
  {
   "cell_type": "code",
   "execution_count": 20,
   "metadata": {},
   "outputs": [
    {
     "name": "stdout",
     "output_type": "stream",
     "text": [
      "Group members: ['Belkin Wemo switch' 'TP-Link Smart plug' 'Light Bulbs LiFX Smart Bulb'\n",
      " 'iHome']\n",
      "Number of bits required to encode final code words in P4:  29\n"
     ]
    }
   ],
   "source": [
    "# 6 is the selected depth from model analysis\n",
    "c_report_plugs, final_model_plugs = get_final_model(IoT_Train, IoT_Test, Plugs, feats_plugs, 6, \"Plugs\")"
   ]
  },
  {
   "cell_type": "code",
   "execution_count": 21,
   "metadata": {},
   "outputs": [
    {
     "name": "stdout",
     "output_type": "stream",
     "text": [
      "Group members: ['Belkin Wemo switch' 'TP-Link Smart plug' 'Light Bulbs LiFX Smart Bulb'\n",
      " 'iHome']\n",
      "Number of bits required to encode final code words in P4:  47\n"
     ]
    }
   ],
   "source": [
    "c_report_video, final_model_video = get_final_model(IoT_Train, IoT_Test, Plugs, feats_video, 9, \"Video\")"
   ]
  },
  {
   "cell_type": "code",
   "execution_count": 22,
   "metadata": {},
   "outputs": [
    {
     "name": "stdout",
     "output_type": "stream",
     "text": [
      "Group members: ['Belkin Wemo switch' 'TP-Link Smart plug' 'Light Bulbs LiFX Smart Bulb'\n",
      " 'iHome']\n",
      "Number of bits required to encode final code words in P4:  45\n"
     ]
    }
   ],
   "source": [
    "c_report_app, final_model_app = get_final_model(IoT_Train, IoT_Test, Plugs, feats_appliances, 8, \"Appliances\")"
   ]
  },
  {
   "cell_type": "code",
   "execution_count": 23,
   "metadata": {},
   "outputs": [
    {
     "name": "stdout",
     "output_type": "stream",
     "text": [
      "Group members: ['Belkin wemo motion sensor' 'NEST Protect smoke alarm'\n",
      " 'Withings Aura smart sleep sensor']\n",
      "Number of bits required to encode final code words in P4:  11\n"
     ]
    }
   ],
   "source": [
    "c_report_sens, final_model_sens = get_final_model(IoT_Train, IoT_Test, Sensors, feats_sensors, 4, \"Sensors\")"
   ]
  },
  {
   "cell_type": "code",
   "execution_count": 24,
   "metadata": {},
   "outputs": [
    {
     "name": "stdout",
     "output_type": "stream",
     "text": [
      "Group members: ['MacBook' 'Laptop']\n",
      "Number of bits required to encode final code words in P4:  471\n"
     ]
    }
   ],
   "source": [
    "c_report_comp, final_model_comp = get_final_model(IoT_Train, IoT_Test, Computers, feats_computers_DT, 10, \"Computers\")"
   ]
  }
 ],
 "metadata": {
  "kernelspec": {
   "display_name": "Python 3.8.5 ('base')",
   "language": "python",
   "name": "python3"
  },
  "language_info": {
   "codemirror_mode": {
    "name": "ipython",
    "version": 3
   },
   "file_extension": ".py",
   "mimetype": "text/x-python",
   "name": "python",
   "nbconvert_exporter": "python",
   "pygments_lexer": "ipython3",
   "version": "3.8.5"
  },
  "vscode": {
   "interpreter": {
    "hash": "dc265197f1a119a8e33b01cdbcef977ba1c353e8312c381f3e25f59054e1824f"
   }
  }
 },
 "nbformat": 4,
 "nbformat_minor": 4
}
